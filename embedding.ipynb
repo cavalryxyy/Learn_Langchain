{
 "cells": [
  {
   "cell_type": "code",
   "execution_count": 6,
   "id": "94bacb7d",
   "metadata": {},
   "outputs": [],
   "source": [
    "from langchain_core.prompts import ChatPromptTemplate\n",
    "from langchain.chains import LLMChain\n",
    "from test_memory import get_llm\n",
    "from AzureConnection import embeddings\n"
   ]
  },
  {
   "cell_type": "code",
   "execution_count": 7,
   "id": "809e3d9d",
   "metadata": {},
   "outputs": [],
   "source": [
    "from langchain.document_loaders import CSVLoader\n",
    "from langchain.indexes import VectorstoreIndexCreator\n",
    "from langchain.vectorstores import DocArrayInMemorySearch\n",
    "from langchain.chains import RetrievalQA\n",
    "from langchain.llms import OpenAI\n",
    "from langchain.prompts import PromptTemplate\n"
   ]
  },
  {
   "cell_type": "markdown",
   "id": "108198e0",
   "metadata": {},
   "source": [
    "### vectorstore"
   ]
  },
  {
   "cell_type": "code",
   "execution_count": 8,
   "id": "49391554",
   "metadata": {},
   "outputs": [],
   "source": [
    "loader = CSVLoader(file_path='OutdoorClothingCatalog_1000.csv')\n",
    "docs = loader.load()"
   ]
  },
  {
   "cell_type": "code",
   "execution_count": 9,
   "id": "593ddd0a",
   "metadata": {},
   "outputs": [],
   "source": [
    "index = VectorstoreIndexCreator(\n",
    "    vectorstore_cls=DocArrayInMemorySearch,\n",
    "    embedding=embeddings\n",
    ").from_loaders([loader])\n"
   ]
  },
  {
   "cell_type": "code",
   "execution_count": 28,
   "id": "039fabf4",
   "metadata": {},
   "outputs": [
    {
     "name": "stdout",
     "output_type": "stream",
     "text": [
      "Here are the shirts with sun protection:\n",
      "\n",
      "1. Sun Shield Shirt: Lightweight shirt with UPF 50+ sun protection. Price: $45.00\n",
      "\n",
      "2. Beach Shirt: Quick-dry with UPF 50+ sun protection. Price: $40.00\n",
      "\n",
      "3. Mountain Shirt: Long sleeve with built-in UPF 30+ sun protection. Price: $55.00\n"
     ]
    }
   ],
   "source": [
    "query = \"list all shirts with sun protection\"\n",
    "result = index.query(query, llm=get_llm())\n",
    "print(result)"
   ]
  },
  {
   "cell_type": "markdown",
   "id": "398ecda4",
   "metadata": {},
   "source": [
    "### embedding II"
   ]
  },
  {
   "cell_type": "code",
   "execution_count": 41,
   "id": "fd9ad91f",
   "metadata": {},
   "outputs": [
    {
     "name": "stdout",
     "output_type": "stream",
     "text": [
      "1536\n"
     ]
    }
   ],
   "source": [
    "embed = embeddings.embed_query(\"cat\")\n",
    "print(len(embed))"
   ]
  },
  {
   "cell_type": "code",
   "execution_count": 42,
   "id": "14c3316e",
   "metadata": {},
   "outputs": [
    {
     "name": "stdout",
     "output_type": "stream",
     "text": [
      "[-0.0070539116859436035, -0.01734057068824768, -0.009698242880403996, -0.03073945827782154, -0.012484360486268997]\n"
     ]
    }
   ],
   "source": [
    "print(embed[:5])"
   ]
  },
  {
   "cell_type": "markdown",
   "id": "fb9ecc91",
   "metadata": {},
   "source": [
    "### retriever"
   ]
  },
  {
   "cell_type": "code",
   "execution_count": 10,
   "id": "5959ec36",
   "metadata": {},
   "outputs": [
    {
     "name": "stdout",
     "output_type": "stream",
     "text": [
      "[Document(metadata={'source': 'OutdoorClothingCatalog_1000.csv', 'row': 0}, page_content='product_name: Sun Shield Shirt\\ndescription: Lightweight shirt with UPF 50+ sun protection\\nfeatures: UPF 50+\\nprice: 45.00\\ncategory: Shirts'), Document(metadata={'source': 'OutdoorClothingCatalog_1000.csv', 'row': 5}, page_content='product_name: Mountain Shirt\\ndescription: Long sleeve with built-in sun protection\\nfeatures: UPF 30+\\nprice: 55.00\\ncategory: Shirts'), Document(metadata={'source': 'OutdoorClothingCatalog_1000.csv', 'row': 2}, page_content='product_name: UV Blocker Hoodie\\ndescription: Full coverage hoodie for extreme sun\\nfeatures: UPF 50+\\nprice: 60.00\\ncategory: Hoodies'), Document(metadata={'source': 'OutdoorClothingCatalog_1000.csv', 'row': 8}, page_content='product_name: Beach Shirt\\ndescription: Quick-dry with sun protection\\nfeatures: UPF 50+\\nprice: 40.00\\ncategory: Shirts')]\n"
     ]
    }
   ],
   "source": [
    "db = DocArrayInMemorySearch.from_documents(\n",
    "    docs,\n",
    "    embeddings\n",
    ")\n",
    "\n",
    "query = \"give me sun protection clothes\"\n",
    "result = db.similarity_search(query)\n",
    "print(result)"
   ]
  },
  {
   "cell_type": "code",
   "execution_count": 11,
   "id": "9f972837",
   "metadata": {},
   "outputs": [],
   "source": [
    "retriever = db.as_retriever()"
   ]
  },
  {
   "cell_type": "code",
   "execution_count": 12,
   "id": "48f9786c",
   "metadata": {},
   "outputs": [
    {
     "name": "stdout",
     "output_type": "stream",
     "text": [
      "{'query': 'give me sun protection clothes and give me output as a table in markdown format', 'result': \"Sure! Here's a table of sun protection clothes in markdown format:\\n\\n```markdown\\n| Product Name       | Description                          | Features  | Price | Category |\\n|--------------------|--------------------------------------|-----------|-------|----------|\\n| Sun Shield Shirt   | Lightweight shirt with UPF 50+ sun protection | UPF 50+  | $45.00| Shirts   |\\n| Mountain Shirt     | Long sleeve with built-in sun protection | UPF 30+  | $55.00| Shirts   |\\n| Safari Pants       | Convertible pants with sun protection | UPF 30+  | $75.00| Pants    |\\n| Beach Shirt        | Quick-dry with sun protection        | UPF 50+  | $40.00| Shirts   |\\n```\", 'source_documents': [Document(metadata={'source': 'OutdoorClothingCatalog_1000.csv', 'row': 0}, page_content='product_name: Sun Shield Shirt\\ndescription: Lightweight shirt with UPF 50+ sun protection\\nfeatures: UPF 50+\\nprice: 45.00\\ncategory: Shirts'), Document(metadata={'source': 'OutdoorClothingCatalog_1000.csv', 'row': 5}, page_content='product_name: Mountain Shirt\\ndescription: Long sleeve with built-in sun protection\\nfeatures: UPF 30+\\nprice: 55.00\\ncategory: Shirts'), Document(metadata={'source': 'OutdoorClothingCatalog_1000.csv', 'row': 9}, page_content='product_name: Safari Pants\\ndescription: Convertible pants with sun protection\\nfeatures: UPF 30+\\nprice: 75.00\\ncategory: Pants'), Document(metadata={'source': 'OutdoorClothingCatalog_1000.csv', 'row': 8}, page_content='product_name: Beach Shirt\\ndescription: Quick-dry with sun protection\\nfeatures: UPF 50+\\nprice: 40.00\\ncategory: Shirts')]}\n"
     ]
    }
   ],
   "source": [
    "qa_stuff = RetrievalQA.from_chain_type(\n",
    "    llm=get_llm(),\n",
    "    chain_type=\"stuff\",\n",
    "    retriever=retriever,\n",
    "    return_source_documents=True\n",
    ")\n",
    "\n",
    "response = qa_stuff.invoke(\"give me sun protection clothes and give me output as a table in markdown format\")\n",
    "print(response)"
   ]
  },
  {
   "cell_type": "markdown",
   "id": "7b710a11",
   "metadata": {},
   "source": [
    "![image](/image/embedding_stuff.png)"
   ]
  }
 ],
 "metadata": {
  "kernelspec": {
   "display_name": "gen_ai",
   "language": "python",
   "name": "python3"
  },
  "language_info": {
   "codemirror_mode": {
    "name": "ipython",
    "version": 3
   },
   "file_extension": ".py",
   "mimetype": "text/x-python",
   "name": "python",
   "nbconvert_exporter": "python",
   "pygments_lexer": "ipython3",
   "version": "3.10.0"
  }
 },
 "nbformat": 4,
 "nbformat_minor": 5
}
